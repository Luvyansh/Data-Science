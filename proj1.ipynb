{
 "cells": [
  {
   "cell_type": "code",
   "execution_count": 1,
   "metadata": {},
   "outputs": [
    {
     "name": "stdout",
     "output_type": "stream",
     "text": [
      "Collecting requests\n",
      "  Downloading requests-2.32.3-py3-none-any.whl.metadata (4.6 kB)\n",
      "Requirement already satisfied: beautifulsoup4 in c:\\python312\\lib\\site-packages (4.12.3)\n",
      "Collecting charset-normalizer<4,>=2 (from requests)\n",
      "  Downloading charset_normalizer-3.3.2-cp312-cp312-win_amd64.whl.metadata (34 kB)\n",
      "Collecting idna<4,>=2.5 (from requests)\n",
      "  Downloading idna-3.7-py3-none-any.whl.metadata (9.9 kB)\n",
      "Collecting urllib3<3,>=1.21.1 (from requests)\n",
      "  Downloading urllib3-2.2.2-py3-none-any.whl.metadata (6.4 kB)\n",
      "Collecting certifi>=2017.4.17 (from requests)\n",
      "  Downloading certifi-2024.7.4-py3-none-any.whl.metadata (2.2 kB)\n",
      "Requirement already satisfied: soupsieve>1.2 in c:\\python312\\lib\\site-packages (from beautifulsoup4) (2.5)\n",
      "Downloading requests-2.32.3-py3-none-any.whl (64 kB)\n",
      "   ---------------------------------------- 0.0/64.9 kB ? eta -:--:--\n",
      "   ---------------------------------------- 0.0/64.9 kB ? eta -:--:--\n",
      "   ------ --------------------------------- 10.2/64.9 kB ? eta -:--:--\n",
      "   ------ --------------------------------- 10.2/64.9 kB ? eta -:--:--\n",
      "   ------------------ --------------------- 30.7/64.9 kB 262.6 kB/s eta 0:00:01\n",
      "   ------------------ --------------------- 30.7/64.9 kB 262.6 kB/s eta 0:00:01\n",
      "   ------------------------- -------------- 41.0/64.9 kB 179.6 kB/s eta 0:00:01\n",
      "   ------------------------- -------------- 41.0/64.9 kB 179.6 kB/s eta 0:00:01\n",
      "   ------------------------- -------------- 41.0/64.9 kB 179.6 kB/s eta 0:00:01\n",
      "   ------------------------- -------------- 41.0/64.9 kB 179.6 kB/s eta 0:00:01\n",
      "   ------------------------- -------------- 41.0/64.9 kB 179.6 kB/s eta 0:00:01\n",
      "   ------------------------- -------------- 41.0/64.9 kB 179.6 kB/s eta 0:00:01\n",
      "   ------------------------- -------------- 41.0/64.9 kB 179.6 kB/s eta 0:00:01\n",
      "   ------------------------- -------------- 41.0/64.9 kB 179.6 kB/s eta 0:00:01\n",
      "   ------------------------- -------------- 41.0/64.9 kB 179.6 kB/s eta 0:00:01\n",
      "   ---------------------------------------- 64.9/64.9 kB 92.2 kB/s eta 0:00:00\n",
      "Downloading certifi-2024.7.4-py3-none-any.whl (162 kB)\n",
      "   ---------------------------------------- 0.0/163.0 kB ? eta -:--:--\n",
      "   ---------------------------------------- 0.0/163.0 kB ? eta -:--:--\n",
      "   -- ------------------------------------- 10.2/163.0 kB ? eta -:--:--\n",
      "   -- ------------------------------------- 10.2/163.0 kB ? eta -:--:--\n",
      "   ------- ------------------------------- 30.7/163.0 kB 186.2 kB/s eta 0:00:01\n",
      "   ------- ------------------------------- 30.7/163.0 kB 186.2 kB/s eta 0:00:01\n",
      "   --------- ----------------------------- 41.0/163.0 kB 150.6 kB/s eta 0:00:01\n",
      "   --------- ----------------------------- 41.0/163.0 kB 150.6 kB/s eta 0:00:01\n",
      "   --------- ----------------------------- 41.0/163.0 kB 150.6 kB/s eta 0:00:01\n",
      "   -------------- ------------------------ 61.4/163.0 kB 163.6 kB/s eta 0:00:01\n",
      "   ------------------- ------------------- 81.9/163.0 kB 183.3 kB/s eta 0:00:01\n",
      "   ------------------- ------------------- 81.9/163.0 kB 183.3 kB/s eta 0:00:01\n",
      "   ---------------------- ---------------- 92.2/163.0 kB 168.9 kB/s eta 0:00:01\n",
      "   ---------------------- ---------------- 92.2/163.0 kB 168.9 kB/s eta 0:00:01\n",
      "   ---------------------- ---------------- 92.2/163.0 kB 168.9 kB/s eta 0:00:01\n",
      "   ---------------------- ---------------- 92.2/163.0 kB 168.9 kB/s eta 0:00:01\n",
      "   -------------------------- ----------- 112.6/163.0 kB 152.4 kB/s eta 0:00:01\n",
      "   -------------------------- ----------- 112.6/163.0 kB 152.4 kB/s eta 0:00:01\n",
      "   ---------------------------- --------- 122.9/163.0 kB 147.0 kB/s eta 0:00:01\n",
      "   ---------------------------- --------- 122.9/163.0 kB 147.0 kB/s eta 0:00:01\n",
      "   ---------------------------- --------- 122.9/163.0 kB 147.0 kB/s eta 0:00:01\n",
      "   --------------------------------- ---- 143.4/163.0 kB 152.1 kB/s eta 0:00:01\n",
      "   -------------------------------------- 163.0/163.0 kB 160.1 kB/s eta 0:00:00\n",
      "Downloading charset_normalizer-3.3.2-cp312-cp312-win_amd64.whl (100 kB)\n",
      "   ---------------------------------------- 0.0/100.4 kB ? eta -:--:--\n",
      "   ---------------------------------------- 0.0/100.4 kB ? eta -:--:--\n",
      "   ---- ----------------------------------- 10.2/100.4 kB ? eta -:--:--\n",
      "   ---- ----------------------------------- 10.2/100.4 kB ? eta -:--:--\n",
      "   ----------- --------------------------- 30.7/100.4 kB 217.9 kB/s eta 0:00:01\n",
      "   ----------- --------------------------- 30.7/100.4 kB 217.9 kB/s eta 0:00:01\n",
      "   --------------- ----------------------- 41.0/100.4 kB 163.4 kB/s eta 0:00:01\n",
      "   --------------- ----------------------- 41.0/100.4 kB 163.4 kB/s eta 0:00:01\n",
      "   ----------------------- --------------- 61.4/100.4 kB 192.5 kB/s eta 0:00:01\n",
      "   ----------------------- --------------- 61.4/100.4 kB 192.5 kB/s eta 0:00:01\n",
      "   --------------------------- ----------- 71.7/100.4 kB 163.8 kB/s eta 0:00:01\n",
      "   --------------------------- ----------- 71.7/100.4 kB 163.8 kB/s eta 0:00:01\n",
      "   ----------------------------------- --- 92.2/100.4 kB 174.7 kB/s eta 0:00:01\n",
      "   -------------------------------------- 100.4/100.4 kB 174.7 kB/s eta 0:00:00\n",
      "Downloading idna-3.7-py3-none-any.whl (66 kB)\n",
      "   ---------------------------------------- 0.0/66.8 kB ? eta -:--:--\n",
      "   ---------------------------------------- 0.0/66.8 kB ? eta -:--:--\n",
      "   ------ --------------------------------- 10.2/66.8 kB ? eta -:--:--\n",
      "   ------ --------------------------------- 10.2/66.8 kB ? eta -:--:--\n",
      "   ------------------ --------------------- 30.7/66.8 kB 220.2 kB/s eta 0:00:01\n",
      "   ------------------ --------------------- 30.7/66.8 kB 220.2 kB/s eta 0:00:01\n",
      "   ------------------------ --------------- 41.0/66.8 kB 164.3 kB/s eta 0:00:01\n",
      "   ------------------------ --------------- 41.0/66.8 kB 164.3 kB/s eta 0:00:01\n",
      "   ---------------------------------------- 66.8/66.8 kB 201.4 kB/s eta 0:00:00\n",
      "Downloading urllib3-2.2.2-py3-none-any.whl (121 kB)\n",
      "   ---------------------------------------- 0.0/121.4 kB ? eta -:--:--\n",
      "   ---------------------------------------- 0.0/121.4 kB ? eta -:--:--\n",
      "   --- ------------------------------------ 10.2/121.4 kB ? eta -:--:--\n",
      "   --- ------------------------------------ 10.2/121.4 kB ? eta -:--:--\n",
      "   --------- ----------------------------- 30.7/121.4 kB 220.2 kB/s eta 0:00:01\n",
      "   --------- ----------------------------- 30.7/121.4 kB 220.2 kB/s eta 0:00:01\n",
      "   ------------- ------------------------- 41.0/121.4 kB 178.6 kB/s eta 0:00:01\n",
      "   ------------- ------------------------- 41.0/121.4 kB 178.6 kB/s eta 0:00:01\n",
      "   ------------------- ------------------- 61.4/121.4 kB 182.2 kB/s eta 0:00:01\n",
      "   ------------------- ------------------- 61.4/121.4 kB 182.2 kB/s eta 0:00:01\n",
      "   -------------------------- ------------ 81.9/121.4 kB 191.1 kB/s eta 0:00:01\n",
      "   -------------------------- ------------ 81.9/121.4 kB 191.1 kB/s eta 0:00:01\n",
      "   ----------------------------- --------- 92.2/121.4 kB 180.8 kB/s eta 0:00:01\n",
      "   ----------------------------- --------- 92.2/121.4 kB 180.8 kB/s eta 0:00:01\n",
      "   ----------------------------- --------- 92.2/121.4 kB 180.8 kB/s eta 0:00:01\n",
      "   ----------------------------------- -- 112.6/121.4 kB 163.8 kB/s eta 0:00:01\n",
      "   -------------------------------------- 121.4/121.4 kB 169.5 kB/s eta 0:00:00\n",
      "Installing collected packages: urllib3, idna, charset-normalizer, certifi, requests\n",
      "Note: you may need to restart the kernel to use updated packages.\n"
     ]
    },
    {
     "name": "stderr",
     "output_type": "stream",
     "text": [
      "  WARNING: Failed to write executable - trying to use .deleteme logic\n",
      "ERROR: Could not install packages due to an OSError: [WinError 2] The system cannot find the file specified: 'c:\\\\Python312\\\\Scripts\\\\normalizer.exe' -> 'c:\\\\Python312\\\\Scripts\\\\normalizer.exe.deleteme'\n",
      "\n",
      "\n",
      "[notice] A new release of pip is available: 24.0 -> 24.1.2\n",
      "[notice] To update, run: python.exe -m pip install --upgrade pip\n"
     ]
    }
   ],
   "source": [
    "%pip install requests beautifulsoup4"
   ]
  },
  {
   "cell_type": "code",
   "execution_count": 3,
   "metadata": {},
   "outputs": [
    {
     "name": "stdout",
     "output_type": "stream",
     "text": [
      "Collecting requests\n",
      "  Using cached requests-2.32.3-py3-none-any.whl.metadata (4.6 kB)\n",
      "Requirement already satisfied: charset-normalizer<4,>=2 in c:\\python312\\lib\\site-packages (from requests) (3.3.2)\n",
      "Requirement already satisfied: idna<4,>=2.5 in c:\\python312\\lib\\site-packages (from requests) (3.7)\n",
      "Requirement already satisfied: urllib3<3,>=1.21.1 in c:\\python312\\lib\\site-packages (from requests) (2.2.2)\n",
      "Collecting certifi>=2017.4.17 (from requests)\n",
      "  Using cached certifi-2024.7.4-py3-none-any.whl.metadata (2.2 kB)\n",
      "Using cached requests-2.32.3-py3-none-any.whl (64 kB)\n",
      "Using cached certifi-2024.7.4-py3-none-any.whl (162 kB)\n",
      "Installing collected packages: certifi, requests\n",
      "Successfully installed certifi-2024.7.4 requests-2.32.3\n",
      "Note: you may need to restart the kernel to use updated packages.\n"
     ]
    },
    {
     "name": "stderr",
     "output_type": "stream",
     "text": [
      "\n",
      "[notice] A new release of pip is available: 24.0 -> 24.1.2\n",
      "[notice] To update, run: python.exe -m pip install --upgrade pip\n"
     ]
    }
   ],
   "source": [
    "%pip install requests"
   ]
  },
  {
   "cell_type": "code",
   "execution_count": 5,
   "metadata": {},
   "outputs": [
    {
     "name": "stdout",
     "output_type": "stream",
     "text": [
      "\n",
      "\n",
      "\n",
      "\n",
      "\n"
     ]
    }
   ],
   "source": [
    "import requests\n",
    "from bs4 import BeautifulSoup\n",
    "\n",
    "# URL of the webpage\n",
    "url = 'https://22f3001919.github.io/tds_project_1/'\n",
    "\n",
    "# Send a GET request to the webpage\n",
    "response = requests.get(url)\n",
    "\n",
    "# Parse the webpage content\n",
    "soup = BeautifulSoup(response.content, 'html.parser')\n",
    "\n",
    "# Extract desired data (example: all text)\n",
    "data = soup.get_text()\n",
    "\n",
    "# Print the extracted data\n",
    "print(data)"
   ]
  }
 ],
 "metadata": {
  "kernelspec": {
   "display_name": "Python 3",
   "language": "python",
   "name": "python3"
  },
  "language_info": {
   "codemirror_mode": {
    "name": "ipython",
    "version": 3
   },
   "file_extension": ".py",
   "mimetype": "text/x-python",
   "name": "python",
   "nbconvert_exporter": "python",
   "pygments_lexer": "ipython3",
   "version": "3.12.3"
  }
 },
 "nbformat": 4,
 "nbformat_minor": 2
}
