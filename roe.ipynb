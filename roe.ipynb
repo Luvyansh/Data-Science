{
 "cells": [
  {
   "cell_type": "code",
   "execution_count": 61,
   "metadata": {},
   "outputs": [
    {
     "name": "stdout",
     "output_type": "stream",
     "text": [
      "Collecting wheel\n",
      "  Downloading wheel-0.43.0-py3-none-any.whl.metadata (2.2 kB)\n",
      "Downloading wheel-0.43.0-py3-none-any.whl (65 kB)\n",
      "   ---------------------------------------- 0.0/65.8 kB ? eta -:--:--\n",
      "   ------ --------------------------------- 10.2/65.8 kB ? eta -:--:--\n",
      "   ------------------------ --------------- 41.0/65.8 kB 495.5 kB/s eta 0:00:01\n",
      "   ---------------------------------------- 65.8/65.8 kB 597.1 kB/s eta 0:00:00\n",
      "Installing collected packages: wheel\n",
      "Note: you may need to restart the kernel to use updated packages.\n"
     ]
    },
    {
     "name": "stderr",
     "output_type": "stream",
     "text": [
      "  WARNING: Failed to write executable - trying to use .deleteme logic\n",
      "ERROR: Could not install packages due to an OSError: [WinError 2] The system cannot find the file specified: 'c:\\\\Python312\\\\Scripts\\\\wheel.exe' -> 'c:\\\\Python312\\\\Scripts\\\\wheel.exe.deleteme'\n",
      "\n",
      "\n",
      "[notice] A new release of pip is available: 24.0 -> 24.1.2\n",
      "[notice] To update, run: python.exe -m pip install --upgrade pip\n"
     ]
    },
    {
     "name": "stdout",
     "output_type": "stream",
     "text": [
      "Collecting pandas\n",
      "  Using cached pandas-2.2.2-cp312-cp312-win_amd64.whl.metadata (19 kB)\n",
      "Requirement already satisfied: numpy>=1.26.0 in c:\\python312\\lib\\site-packages (from pandas) (2.0.0)\n",
      "Requirement already satisfied: python-dateutil>=2.8.2 in c:\\users\\anurag pandey\\appdata\\roaming\\python\\python312\\site-packages (from pandas) (2.9.0.post0)\n",
      "Requirement already satisfied: pytz>=2020.1 in c:\\python312\\lib\\site-packages (from pandas) (2024.1)\n",
      "Requirement already satisfied: tzdata>=2022.7 in c:\\python312\\lib\\site-packages (from pandas) (2024.1)\n",
      "Requirement already satisfied: six>=1.5 in c:\\users\\anurag pandey\\appdata\\roaming\\python\\python312\\site-packages (from python-dateutil>=2.8.2->pandas) (1.16.0)\n",
      "Using cached pandas-2.2.2-cp312-cp312-win_amd64.whl (11.5 MB)\n",
      "Installing collected packages: pandas\n",
      "Successfully installed pandas-2.2.2\n",
      "Note: you may need to restart the kernel to use updated packages.\n"
     ]
    },
    {
     "name": "stderr",
     "output_type": "stream",
     "text": [
      "\n",
      "[notice] A new release of pip is available: 24.0 -> 24.1.2\n",
      "[notice] To update, run: python.exe -m pip install --upgrade pip\n"
     ]
    }
   ],
   "source": [
    "%pip install wheel\n",
    "%pip install pandas"
   ]
  },
  {
   "cell_type": "code",
   "execution_count": 59,
   "metadata": {},
   "outputs": [],
   "source": [
    "import os\n",
    "from bs4 import BeautifulSoup"
   ]
  },
  {
   "cell_type": "code",
   "execution_count": 62,
   "metadata": {},
   "outputs": [],
   "source": [
    "import pandas as pd"
   ]
  },
  {
   "cell_type": "code",
   "execution_count": 63,
   "metadata": {},
   "outputs": [],
   "source": [
    "math_scores = []\n",
    "read_scores = []"
   ]
  },
  {
   "cell_type": "code",
   "execution_count": 66,
   "metadata": {},
   "outputs": [
    {
     "name": "stdout",
     "output_type": "stream",
     "text": [
      "Pearson correlation coefficient: nan\n"
     ]
    }
   ],
   "source": [
    "extraction_path = './roe/'\n",
    "\n",
    "def extract_scores(file_path):\n",
    "    with open(file_path, 'r', encoding='utf-8') as file:\n",
    "        soup = BeautifulSoup(file, 'html.parser')\n",
    "        # Assuming the structure of the HTML contains the scores in a specific format\n",
    "        schools = soup.find_all('div', class_='school')  # Modify based on actual HTML structure\n",
    "        for school in schools:\n",
    "            math_score = school.find('span', class_='average-score-math')\n",
    "            read_score = school.find('span', class_='average-score-read')\n",
    "            if math_score and read_score:\n",
    "                try:\n",
    "                    math_scores.append(float(math_score.text.strip()))\n",
    "                    read_scores.append(float(read_score.text.strip()))\n",
    "                except ValueError:\n",
    "                    continue\n",
    "\n",
    "# Loop through all HTML files and extract scores\n",
    "for file_name in os.listdir(extraction_path):\n",
    "    if file_name.endswith('.html'):\n",
    "        extract_scores(os.path.join(extraction_path, file_name))\n",
    "\n",
    "# Create a DataFrame\n",
    "scores_df = pd.DataFrame({\n",
    "    'Average Score: Math': math_scores,\n",
    "    'Average Score: Read': read_scores\n",
    "})\n",
    "\n",
    "# Drop rows with null values\n",
    "scores_df.dropna(inplace=True)\n",
    "\n",
    "# Calculate the Pearson correlation coefficient\n",
    "pearson_correlation = scores_df.corr().loc['Average Score: Math', 'Average Score: Read']\n",
    "print(\"Pearson correlation coefficient:\", pearson_correlation)"
   ]
  }
 ],
 "metadata": {
  "kernelspec": {
   "display_name": "Python 3",
   "language": "python",
   "name": "python3"
  },
  "language_info": {
   "codemirror_mode": {
    "name": "ipython",
    "version": 3
   },
   "file_extension": ".py",
   "mimetype": "text/x-python",
   "name": "python",
   "nbconvert_exporter": "python",
   "pygments_lexer": "ipython3",
   "version": "3.12.3"
  }
 },
 "nbformat": 4,
 "nbformat_minor": 2
}
